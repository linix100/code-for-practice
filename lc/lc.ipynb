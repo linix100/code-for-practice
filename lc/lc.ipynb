{
 "cells": [
  {
   "cell_type": "code",
   "execution_count": 4,
   "metadata": {},
   "outputs": [],
   "source": [
    "#Two Sum"
   ]
  },
  {
   "cell_type": "code",
   "execution_count": 3,
   "metadata": {},
   "outputs": [],
   "source": [
    "class Solutions:\n",
    "    def twoSum(self, nums, target):\n",
    "\t    mapping={}\n",
    "\t    for i,number1 in enumerate(nums):\n",
    "\t        number2=target-number1\n",
    "\t        if number2 in mapping:\n",
    "\t            return [i,mapping[number2]]\n",
    "\t        else:\n",
    "\t            mapping[number1]=i"
   ]
  }
 ],
 "metadata": {
  "kernelspec": {
   "display_name": "Python 3",
   "language": "python",
   "name": "python3"
  },
  "language_info": {
   "codemirror_mode": {
    "name": "ipython",
    "version": 3
   },
   "file_extension": ".py",
   "mimetype": "text/x-python",
   "name": "python",
   "nbconvert_exporter": "python",
   "pygments_lexer": "ipython3",
   "version": "3.7.4"
  }
 },
 "nbformat": 4,
 "nbformat_minor": 2
}
